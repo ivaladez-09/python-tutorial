{
  "nbformat": 4,
  "nbformat_minor": 0,
  "metadata": {
    "colab": {
      "name": "MachineLearning_01.ipynb",
      "provenance": [],
      "collapsed_sections": []
    },
    "kernelspec": {
      "name": "python3",
      "display_name": "Python 3"
    }
  },
  "cells": [
    {
      "cell_type": "markdown",
      "metadata": {
        "id": "O622H0Dz_5m7"
      },
      "source": [
        "# Machine Learning 01\r\n",
        "## Iris - Classification"
      ]
    },
    {
      "cell_type": "code",
      "metadata": {
        "id": "qHl5o63xAfMb"
      },
      "source": [
        "import pandas as pd\r\n",
        "import numpy as np\r\n",
        "import matplotlib.pyplot as plt"
      ],
      "execution_count": 1,
      "outputs": []
    },
    {
      "cell_type": "code",
      "metadata": {
        "id": "wucnbOMeo4KW"
      },
      "source": [
        "from sklearn.datasets import load_iris\r\n",
        "iris = load_iris()"
      ],
      "execution_count": 2,
      "outputs": []
    },
    {
      "cell_type": "code",
      "metadata": {
        "colab": {
          "base_uri": "https://localhost:8080/"
        },
        "id": "x3hO4bjlpEed",
        "outputId": "c9666e1b-4106-4378-efce-5f0284d9c6dc"
      },
      "source": [
        "X = iris.data\r\n",
        "y = iris.target\r\n",
        "\r\n",
        "feature_names = iris.feature_names\r\n",
        "target_names = iris.target_names\r\n",
        "print(feature_names)\r\n",
        "print(target_names)\r\n",
        "print(X.shape, y.shape)"
      ],
      "execution_count": 3,
      "outputs": [
        {
          "output_type": "stream",
          "text": [
            "['sepal length (cm)', 'sepal width (cm)', 'petal length (cm)', 'petal width (cm)']\n",
            "['setosa' 'versicolor' 'virginica']\n",
            "(150, 4) (150,)\n"
          ],
          "name": "stdout"
        }
      ]
    },
    {
      "cell_type": "code",
      "metadata": {
        "colab": {
          "base_uri": "https://localhost:8080/"
        },
        "id": "PrDAua9QqEEj",
        "outputId": "f88947f8-4843-4e3e-b545-ab9f52360ac6"
      },
      "source": [
        "from  sklearn.model_selection import train_test_split\r\n",
        "X_train, X_test, y_train, y_test = train_test_split(X, y, test_size=0.2)\r\n",
        "\r\n",
        "print(X_train.shape)\r\n",
        "print(X_test.shape)"
      ],
      "execution_count": 4,
      "outputs": [
        {
          "output_type": "stream",
          "text": [
            "(120, 4)\n",
            "(30, 4)\n"
          ],
          "name": "stdout"
        }
      ]
    },
    {
      "cell_type": "code",
      "metadata": {
        "colab": {
          "base_uri": "https://localhost:8080/"
        },
        "id": "ckb7qpbttWgT",
        "outputId": "d94b5e89-4fa0-43cd-cbd2-8ee0df9b8312"
      },
      "source": [
        "from sklearn.neighbors import KNeighborsClassifier\r\n",
        "knn = KNeighborsClassifier(n_neighbors=3)\r\n",
        "knn.fit(X_train, y_train)  # Trinning the model"
      ],
      "execution_count": 5,
      "outputs": [
        {
          "output_type": "execute_result",
          "data": {
            "text/plain": [
              "KNeighborsClassifier(algorithm='auto', leaf_size=30, metric='minkowski',\n",
              "                     metric_params=None, n_jobs=None, n_neighbors=3, p=2,\n",
              "                     weights='uniform')"
            ]
          },
          "metadata": {
            "tags": []
          },
          "execution_count": 5
        }
      ]
    },
    {
      "cell_type": "code",
      "metadata": {
        "id": "ddfuNaovvMdb"
      },
      "source": [
        "y_pred = knn.predict(X_test)"
      ],
      "execution_count": 6,
      "outputs": []
    },
    {
      "cell_type": "code",
      "metadata": {
        "colab": {
          "base_uri": "https://localhost:8080/"
        },
        "id": "DRg5IbTaveuX",
        "outputId": "19414c66-3ffd-455e-c093-9449775742e5"
      },
      "source": [
        "from sklearn import metrics\r\n",
        "print(metrics.accuracy_score(y_test, y_pred))"
      ],
      "execution_count": 7,
      "outputs": [
        {
          "output_type": "stream",
          "text": [
            "0.9666666666666667\n"
          ],
          "name": "stdout"
        }
      ]
    },
    {
      "cell_type": "code",
      "metadata": {
        "colab": {
          "base_uri": "https://localhost:8080/"
        },
        "id": "8XJi9j8hwGwq",
        "outputId": "96215ad8-46ad-44dd-8447-013a275233bd"
      },
      "source": [
        "sample = [[3,5,4,2], [2,3,5,4]]\r\n",
        "sample_prediction = knn.predict(sample)\r\n",
        "pred_species = [iris.target_names[p] for p in sample_prediction]\r\n",
        "print('Predictions: ', pred_species)"
      ],
      "execution_count": 9,
      "outputs": [
        {
          "output_type": "stream",
          "text": [
            "Predictions:  ['versicolor', 'virginica']\n"
          ],
          "name": "stdout"
        }
      ]
    },
    {
      "cell_type": "code",
      "metadata": {
        "id": "QO04b5unWPYL"
      },
      "source": [
        "from sklearn.externals.joblib import dump, load\r\n",
        "\r\n",
        "# Guardar nuestro modelo entrenado\r\n",
        "model = dump(knn, 'mlbrain.joblib')  # .pkl\r\n",
        "\r\n",
        "# Descargar el modelo para poder usarlo en futuras ocasiones\r\n",
        "# files.download('mlbrain.joblib')"
      ],
      "execution_count": 12,
      "outputs": []
    },
    {
      "cell_type": "code",
      "metadata": {
        "colab": {
          "base_uri": "https://localhost:8080/"
        },
        "id": "Jk6eXfrzXu2D",
        "outputId": "db291240-dfd8-40bb-9e55-14002a62cab2"
      },
      "source": [
        "# Usar el modelo entrenado\r\n",
        "new_model = load('mlbrain.joblib')\r\n",
        "new_model.predict(X_test)\r\n",
        "sample = [[3,5,4,2], [2,3,5,4]]\r\n",
        "sample_prediction = new_model.predict(sample)\r\n",
        "pred_species = [iris.target_names[p] for p in sample_prediction]\r\n",
        "print('Predictions: ', pred_species)"
      ],
      "execution_count": 13,
      "outputs": [
        {
          "output_type": "stream",
          "text": [
            "Predictions:  ['versicolor', 'virginica']\n"
          ],
          "name": "stdout"
        }
      ]
    }
  ]
}